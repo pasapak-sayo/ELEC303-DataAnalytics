{
 "cells": [
  {
   "cell_type": "markdown",
   "id": "053313d5-0c00-45ce-b0fa-3a0543c7ca66",
   "metadata": {},
   "source": [
    "<h1>UK ROAD ACCIDENT DATA ANALYTICS PROJECT</h1>"
   ]
  },
  {
   "cell_type": "markdown",
   "id": "4732c78e-2605-4395-9741-c3d0ecbea937",
   "metadata": {},
   "source": [
    "<hr>"
   ]
  },
  {
   "cell_type": "markdown",
   "id": "cfb52b15-6be7-4aaa-a522-4e7d64d1ab3e",
   "metadata": {},
   "source": [
    "<h2>Data Analyst : John Paul U. Naynes</h2>"
   ]
  },
  {
   "cell_type": "markdown",
   "id": "2fb135fc-0334-43fd-aed2-63fc3307b2c9",
   "metadata": {},
   "source": [
    "<h1>Libraries</h1>"
   ]
  },
  {
   "cell_type": "code",
   "execution_count": 109,
   "id": "eec71df0-f481-4e58-b100-4f63da61a415",
   "metadata": {},
   "outputs": [],
   "source": [
    "import numpy as np\n",
    "import pandas as pd\n",
    "import warnings\n",
    "import matplotlib.pyplot as plt\n",
    "import folium\n",
    "from folium.plugins import HeatMap\n",
    "import seaborn as sns\n",
    "\n",
    "warnings.filterwarnings('ignore')"
   ]
  },
  {
   "cell_type": "markdown",
   "id": "34185d35-b12f-4aed-9c1e-59fc316d3fdc",
   "metadata": {},
   "source": [
    "<h2>Converting Datasets into DataFrame</h2>"
   ]
  },
  {
   "cell_type": "code",
   "execution_count": 52,
   "id": "4e3ed168-67da-49de-aaa6-a08952eaec47",
   "metadata": {},
   "outputs": [],
   "source": [
    "uk_accidents = pd.read_csv('datasets\\\\uk_road_accident.csv')"
   ]
  },
  {
   "cell_type": "code",
   "execution_count": 53,
   "id": "13e5cab9-0121-4f63-ac5b-c09588c2b53b",
   "metadata": {},
   "outputs": [
    {
     "data": {
      "text/html": [
       "<div>\n",
       "<style scoped>\n",
       "    .dataframe tbody tr th:only-of-type {\n",
       "        vertical-align: middle;\n",
       "    }\n",
       "\n",
       "    .dataframe tbody tr th {\n",
       "        vertical-align: top;\n",
       "    }\n",
       "\n",
       "    .dataframe thead th {\n",
       "        text-align: right;\n",
       "    }\n",
       "</style>\n",
       "<table border=\"1\" class=\"dataframe\">\n",
       "  <thead>\n",
       "    <tr style=\"text-align: right;\">\n",
       "      <th></th>\n",
       "      <th>Index</th>\n",
       "      <th>Accident_Severity</th>\n",
       "      <th>Accident Date</th>\n",
       "      <th>Latitude</th>\n",
       "      <th>Light_Conditions</th>\n",
       "      <th>District Area</th>\n",
       "      <th>Longitude</th>\n",
       "      <th>Number_of_Casualties</th>\n",
       "      <th>Number_of_Vehicles</th>\n",
       "      <th>Road_Surface_Conditions</th>\n",
       "      <th>Road_Type</th>\n",
       "      <th>Urban_or_Rural_Area</th>\n",
       "      <th>Weather_Conditions</th>\n",
       "      <th>Vehicle_Type</th>\n",
       "    </tr>\n",
       "  </thead>\n",
       "  <tbody>\n",
       "    <tr>\n",
       "      <th>0</th>\n",
       "      <td>200701BS64157</td>\n",
       "      <td>Serious</td>\n",
       "      <td>5/6/2019</td>\n",
       "      <td>51.506187</td>\n",
       "      <td>Darkness - lights lit</td>\n",
       "      <td>Kensington and Chelsea</td>\n",
       "      <td>-0.209082</td>\n",
       "      <td>1</td>\n",
       "      <td>2</td>\n",
       "      <td>Dry</td>\n",
       "      <td>Single carriageway</td>\n",
       "      <td>Urban</td>\n",
       "      <td>Fine no high winds</td>\n",
       "      <td>Car</td>\n",
       "    </tr>\n",
       "    <tr>\n",
       "      <th>1</th>\n",
       "      <td>200701BS65737</td>\n",
       "      <td>Serious</td>\n",
       "      <td>2/7/2019</td>\n",
       "      <td>51.495029</td>\n",
       "      <td>Daylight</td>\n",
       "      <td>Kensington and Chelsea</td>\n",
       "      <td>-0.173647</td>\n",
       "      <td>1</td>\n",
       "      <td>2</td>\n",
       "      <td>Wet or damp</td>\n",
       "      <td>Single carriageway</td>\n",
       "      <td>Urban</td>\n",
       "      <td>Raining no high winds</td>\n",
       "      <td>Car</td>\n",
       "    </tr>\n",
       "    <tr>\n",
       "      <th>2</th>\n",
       "      <td>200701BS66127</td>\n",
       "      <td>Serious</td>\n",
       "      <td>26-08-2019</td>\n",
       "      <td>51.517715</td>\n",
       "      <td>Darkness - lighting unknown</td>\n",
       "      <td>Kensington and Chelsea</td>\n",
       "      <td>-0.210215</td>\n",
       "      <td>1</td>\n",
       "      <td>3</td>\n",
       "      <td>Dry</td>\n",
       "      <td>NaN</td>\n",
       "      <td>Urban</td>\n",
       "      <td>NaN</td>\n",
       "      <td>Taxi/Private hire car</td>\n",
       "    </tr>\n",
       "    <tr>\n",
       "      <th>3</th>\n",
       "      <td>200701BS66128</td>\n",
       "      <td>Serious</td>\n",
       "      <td>16-08-2019</td>\n",
       "      <td>51.495478</td>\n",
       "      <td>Daylight</td>\n",
       "      <td>Kensington and Chelsea</td>\n",
       "      <td>-0.202731</td>\n",
       "      <td>1</td>\n",
       "      <td>4</td>\n",
       "      <td>Dry</td>\n",
       "      <td>Single carriageway</td>\n",
       "      <td>Urban</td>\n",
       "      <td>Fine no high winds</td>\n",
       "      <td>Bus or coach (17 or more pass seats)</td>\n",
       "    </tr>\n",
       "    <tr>\n",
       "      <th>4</th>\n",
       "      <td>200701BS66837</td>\n",
       "      <td>Slight</td>\n",
       "      <td>3/9/2019</td>\n",
       "      <td>51.488576</td>\n",
       "      <td>Darkness - lights lit</td>\n",
       "      <td>Kensington and Chelsea</td>\n",
       "      <td>-0.192487</td>\n",
       "      <td>1</td>\n",
       "      <td>2</td>\n",
       "      <td>Dry</td>\n",
       "      <td>NaN</td>\n",
       "      <td>Urban</td>\n",
       "      <td>NaN</td>\n",
       "      <td>Other vehicle</td>\n",
       "    </tr>\n",
       "    <tr>\n",
       "      <th>...</th>\n",
       "      <td>...</td>\n",
       "      <td>...</td>\n",
       "      <td>...</td>\n",
       "      <td>...</td>\n",
       "      <td>...</td>\n",
       "      <td>...</td>\n",
       "      <td>...</td>\n",
       "      <td>...</td>\n",
       "      <td>...</td>\n",
       "      <td>...</td>\n",
       "      <td>...</td>\n",
       "      <td>...</td>\n",
       "      <td>...</td>\n",
       "      <td>...</td>\n",
       "    </tr>\n",
       "    <tr>\n",
       "      <th>660674</th>\n",
       "      <td>201091NM01760</td>\n",
       "      <td>Slight</td>\n",
       "      <td>18-02-2022</td>\n",
       "      <td>57.374005</td>\n",
       "      <td>Daylight</td>\n",
       "      <td>Highland</td>\n",
       "      <td>-3.467828</td>\n",
       "      <td>2</td>\n",
       "      <td>1</td>\n",
       "      <td>Dry</td>\n",
       "      <td>Single carriageway</td>\n",
       "      <td>Rural</td>\n",
       "      <td>Fine no high winds</td>\n",
       "      <td>Car</td>\n",
       "    </tr>\n",
       "    <tr>\n",
       "      <th>660675</th>\n",
       "      <td>201091NM01881</td>\n",
       "      <td>Slight</td>\n",
       "      <td>21-02-2022</td>\n",
       "      <td>57.232273</td>\n",
       "      <td>Darkness - no lighting</td>\n",
       "      <td>Highland</td>\n",
       "      <td>-3.809281</td>\n",
       "      <td>1</td>\n",
       "      <td>1</td>\n",
       "      <td>Frost or ice</td>\n",
       "      <td>Single carriageway</td>\n",
       "      <td>Rural</td>\n",
       "      <td>Fine no high winds</td>\n",
       "      <td>Car</td>\n",
       "    </tr>\n",
       "    <tr>\n",
       "      <th>660676</th>\n",
       "      <td>201091NM01935</td>\n",
       "      <td>Slight</td>\n",
       "      <td>23-02-2022</td>\n",
       "      <td>57.585044</td>\n",
       "      <td>Daylight</td>\n",
       "      <td>Highland</td>\n",
       "      <td>-3.862727</td>\n",
       "      <td>1</td>\n",
       "      <td>3</td>\n",
       "      <td>Frost or ice</td>\n",
       "      <td>Single carriageway</td>\n",
       "      <td>Rural</td>\n",
       "      <td>Fine no high winds</td>\n",
       "      <td>Car</td>\n",
       "    </tr>\n",
       "    <tr>\n",
       "      <th>660677</th>\n",
       "      <td>201091NM01964</td>\n",
       "      <td>Serious</td>\n",
       "      <td>23-02-2022</td>\n",
       "      <td>57.214898</td>\n",
       "      <td>Darkness - no lighting</td>\n",
       "      <td>Highland</td>\n",
       "      <td>-3.823997</td>\n",
       "      <td>1</td>\n",
       "      <td>2</td>\n",
       "      <td>Wet or damp</td>\n",
       "      <td>Single carriageway</td>\n",
       "      <td>Rural</td>\n",
       "      <td>Fine no high winds</td>\n",
       "      <td>Motorcycle over 500cc</td>\n",
       "    </tr>\n",
       "    <tr>\n",
       "      <th>660678</th>\n",
       "      <td>201091NM02142</td>\n",
       "      <td>Serious</td>\n",
       "      <td>28-02-2022</td>\n",
       "      <td>57.575210</td>\n",
       "      <td>Daylight</td>\n",
       "      <td>Highland</td>\n",
       "      <td>-3.895673</td>\n",
       "      <td>1</td>\n",
       "      <td>1</td>\n",
       "      <td>Wet or damp</td>\n",
       "      <td>Dual carriageway</td>\n",
       "      <td>Rural</td>\n",
       "      <td>Snowing no high winds</td>\n",
       "      <td>Car</td>\n",
       "    </tr>\n",
       "  </tbody>\n",
       "</table>\n",
       "<p>660679 rows × 14 columns</p>\n",
       "</div>"
      ],
      "text/plain": [
       "                Index Accident_Severity Accident Date   Latitude  \\\n",
       "0       200701BS64157           Serious      5/6/2019  51.506187   \n",
       "1       200701BS65737           Serious      2/7/2019  51.495029   \n",
       "2       200701BS66127           Serious    26-08-2019  51.517715   \n",
       "3       200701BS66128           Serious    16-08-2019  51.495478   \n",
       "4       200701BS66837            Slight      3/9/2019  51.488576   \n",
       "...               ...               ...           ...        ...   \n",
       "660674  201091NM01760            Slight    18-02-2022  57.374005   \n",
       "660675  201091NM01881            Slight    21-02-2022  57.232273   \n",
       "660676  201091NM01935            Slight    23-02-2022  57.585044   \n",
       "660677  201091NM01964           Serious    23-02-2022  57.214898   \n",
       "660678  201091NM02142           Serious    28-02-2022  57.575210   \n",
       "\n",
       "                   Light_Conditions           District Area  Longitude  \\\n",
       "0             Darkness - lights lit  Kensington and Chelsea  -0.209082   \n",
       "1                          Daylight  Kensington and Chelsea  -0.173647   \n",
       "2       Darkness - lighting unknown  Kensington and Chelsea  -0.210215   \n",
       "3                          Daylight  Kensington and Chelsea  -0.202731   \n",
       "4             Darkness - lights lit  Kensington and Chelsea  -0.192487   \n",
       "...                             ...                     ...        ...   \n",
       "660674                     Daylight                Highland  -3.467828   \n",
       "660675       Darkness - no lighting                Highland  -3.809281   \n",
       "660676                     Daylight                Highland  -3.862727   \n",
       "660677       Darkness - no lighting                Highland  -3.823997   \n",
       "660678                     Daylight                Highland  -3.895673   \n",
       "\n",
       "        Number_of_Casualties  Number_of_Vehicles Road_Surface_Conditions  \\\n",
       "0                          1                   2                     Dry   \n",
       "1                          1                   2             Wet or damp   \n",
       "2                          1                   3                     Dry   \n",
       "3                          1                   4                     Dry   \n",
       "4                          1                   2                     Dry   \n",
       "...                      ...                 ...                     ...   \n",
       "660674                     2                   1                     Dry   \n",
       "660675                     1                   1            Frost or ice   \n",
       "660676                     1                   3            Frost or ice   \n",
       "660677                     1                   2             Wet or damp   \n",
       "660678                     1                   1             Wet or damp   \n",
       "\n",
       "                 Road_Type Urban_or_Rural_Area     Weather_Conditions  \\\n",
       "0       Single carriageway               Urban     Fine no high winds   \n",
       "1       Single carriageway               Urban  Raining no high winds   \n",
       "2                      NaN               Urban                    NaN   \n",
       "3       Single carriageway               Urban     Fine no high winds   \n",
       "4                      NaN               Urban                    NaN   \n",
       "...                    ...                 ...                    ...   \n",
       "660674  Single carriageway               Rural     Fine no high winds   \n",
       "660675  Single carriageway               Rural     Fine no high winds   \n",
       "660676  Single carriageway               Rural     Fine no high winds   \n",
       "660677  Single carriageway               Rural     Fine no high winds   \n",
       "660678    Dual carriageway               Rural  Snowing no high winds   \n",
       "\n",
       "                                Vehicle_Type  \n",
       "0                                        Car  \n",
       "1                                        Car  \n",
       "2                      Taxi/Private hire car  \n",
       "3       Bus or coach (17 or more pass seats)  \n",
       "4                              Other vehicle  \n",
       "...                                      ...  \n",
       "660674                                   Car  \n",
       "660675                                   Car  \n",
       "660676                                   Car  \n",
       "660677                 Motorcycle over 500cc  \n",
       "660678                                   Car  \n",
       "\n",
       "[660679 rows x 14 columns]"
      ]
     },
     "execution_count": 53,
     "metadata": {},
     "output_type": "execute_result"
    }
   ],
   "source": [
    "uk_accidents"
   ]
  },
  {
   "cell_type": "markdown",
   "id": "9b95c323-4f95-46a0-bc0e-467a1ff1eecf",
   "metadata": {},
   "source": [
    "<h2>DataFrame Info</h2>"
   ]
  },
  {
   "cell_type": "code",
   "execution_count": 54,
   "id": "5ab0ec6d-753f-4c0b-ad71-de6bd7f4ac90",
   "metadata": {},
   "outputs": [
    {
     "name": "stdout",
     "output_type": "stream",
     "text": [
      "<class 'pandas.core.frame.DataFrame'>\n",
      "RangeIndex: 660679 entries, 0 to 660678\n",
      "Data columns (total 14 columns):\n",
      " #   Column                   Non-Null Count   Dtype  \n",
      "---  ------                   --------------   -----  \n",
      " 0   Index                    660679 non-null  object \n",
      " 1   Accident_Severity        660679 non-null  object \n",
      " 2   Accident Date            660679 non-null  object \n",
      " 3   Latitude                 660654 non-null  float64\n",
      " 4   Light_Conditions         660679 non-null  object \n",
      " 5   District Area            660679 non-null  object \n",
      " 6   Longitude                660653 non-null  float64\n",
      " 7   Number_of_Casualties     660679 non-null  int64  \n",
      " 8   Number_of_Vehicles       660679 non-null  int64  \n",
      " 9   Road_Surface_Conditions  659953 non-null  object \n",
      " 10  Road_Type                656159 non-null  object \n",
      " 11  Urban_or_Rural_Area      660664 non-null  object \n",
      " 12  Weather_Conditions       646551 non-null  object \n",
      " 13  Vehicle_Type             660679 non-null  object \n",
      "dtypes: float64(2), int64(2), object(10)\n",
      "memory usage: 70.6+ MB\n"
     ]
    }
   ],
   "source": [
    "uk_accidents.info()"
   ]
  },
  {
   "cell_type": "markdown",
   "id": "fb08db0c-4a15-4d21-81a6-12c200d7258a",
   "metadata": {},
   "source": []
  },
  {
   "cell_type": "markdown",
   "id": "61af1c97-aaba-41dc-a0bb-3a5021a6c7bf",
   "metadata": {},
   "source": [
    "<h2>DataFrame Basic Descriptive Statistics</h2>"
   ]
  },
  {
   "cell_type": "code",
   "execution_count": 55,
   "id": "ce4e97c5-7629-4508-82a2-d69ef54d46fb",
   "metadata": {},
   "outputs": [
    {
     "data": {
      "text/html": [
       "<div>\n",
       "<style scoped>\n",
       "    .dataframe tbody tr th:only-of-type {\n",
       "        vertical-align: middle;\n",
       "    }\n",
       "\n",
       "    .dataframe tbody tr th {\n",
       "        vertical-align: top;\n",
       "    }\n",
       "\n",
       "    .dataframe thead th {\n",
       "        text-align: right;\n",
       "    }\n",
       "</style>\n",
       "<table border=\"1\" class=\"dataframe\">\n",
       "  <thead>\n",
       "    <tr style=\"text-align: right;\">\n",
       "      <th></th>\n",
       "      <th>Latitude</th>\n",
       "      <th>Longitude</th>\n",
       "      <th>Number_of_Casualties</th>\n",
       "      <th>Number_of_Vehicles</th>\n",
       "    </tr>\n",
       "  </thead>\n",
       "  <tbody>\n",
       "    <tr>\n",
       "      <th>count</th>\n",
       "      <td>660654.000000</td>\n",
       "      <td>660653.000000</td>\n",
       "      <td>660679.000000</td>\n",
       "      <td>660679.000000</td>\n",
       "    </tr>\n",
       "    <tr>\n",
       "      <th>mean</th>\n",
       "      <td>52.553866</td>\n",
       "      <td>-1.431210</td>\n",
       "      <td>1.357040</td>\n",
       "      <td>1.831255</td>\n",
       "    </tr>\n",
       "    <tr>\n",
       "      <th>std</th>\n",
       "      <td>1.406922</td>\n",
       "      <td>1.383330</td>\n",
       "      <td>0.824847</td>\n",
       "      <td>0.715269</td>\n",
       "    </tr>\n",
       "    <tr>\n",
       "      <th>min</th>\n",
       "      <td>49.914430</td>\n",
       "      <td>-7.516225</td>\n",
       "      <td>1.000000</td>\n",
       "      <td>1.000000</td>\n",
       "    </tr>\n",
       "    <tr>\n",
       "      <th>25%</th>\n",
       "      <td>51.490690</td>\n",
       "      <td>-2.332291</td>\n",
       "      <td>1.000000</td>\n",
       "      <td>1.000000</td>\n",
       "    </tr>\n",
       "    <tr>\n",
       "      <th>50%</th>\n",
       "      <td>52.315641</td>\n",
       "      <td>-1.411667</td>\n",
       "      <td>1.000000</td>\n",
       "      <td>2.000000</td>\n",
       "    </tr>\n",
       "    <tr>\n",
       "      <th>75%</th>\n",
       "      <td>53.453452</td>\n",
       "      <td>-0.232869</td>\n",
       "      <td>1.000000</td>\n",
       "      <td>2.000000</td>\n",
       "    </tr>\n",
       "    <tr>\n",
       "      <th>max</th>\n",
       "      <td>60.757544</td>\n",
       "      <td>1.762010</td>\n",
       "      <td>68.000000</td>\n",
       "      <td>32.000000</td>\n",
       "    </tr>\n",
       "  </tbody>\n",
       "</table>\n",
       "</div>"
      ],
      "text/plain": [
       "            Latitude      Longitude  Number_of_Casualties  Number_of_Vehicles\n",
       "count  660654.000000  660653.000000         660679.000000       660679.000000\n",
       "mean       52.553866      -1.431210              1.357040            1.831255\n",
       "std         1.406922       1.383330              0.824847            0.715269\n",
       "min        49.914430      -7.516225              1.000000            1.000000\n",
       "25%        51.490690      -2.332291              1.000000            1.000000\n",
       "50%        52.315641      -1.411667              1.000000            2.000000\n",
       "75%        53.453452      -0.232869              1.000000            2.000000\n",
       "max        60.757544       1.762010             68.000000           32.000000"
      ]
     },
     "execution_count": 55,
     "metadata": {},
     "output_type": "execute_result"
    }
   ],
   "source": [
    "uk_accidents.describe()"
   ]
  },
  {
   "cell_type": "markdown",
   "id": "2628cfe6-d881-4788-84c1-cba365e5ee4f",
   "metadata": {},
   "source": [
    "<h2>Checking Null Values</h2>"
   ]
  },
  {
   "cell_type": "code",
   "execution_count": 56,
   "id": "5d54201d-27c6-4a59-bcbb-eae4f53a5da0",
   "metadata": {
    "scrolled": true
   },
   "outputs": [
    {
     "data": {
      "text/plain": [
       "Index                          0\n",
       "Accident_Severity              0\n",
       "Accident Date                  0\n",
       "Latitude                      25\n",
       "Light_Conditions               0\n",
       "District Area                  0\n",
       "Longitude                     26\n",
       "Number_of_Casualties           0\n",
       "Number_of_Vehicles             0\n",
       "Road_Surface_Conditions      726\n",
       "Road_Type                   4520\n",
       "Urban_or_Rural_Area           15\n",
       "Weather_Conditions         14128\n",
       "Vehicle_Type                   0\n",
       "dtype: int64"
      ]
     },
     "execution_count": 56,
     "metadata": {},
     "output_type": "execute_result"
    }
   ],
   "source": [
    "uk_accidents.isnull().sum()"
   ]
  },
  {
   "cell_type": "markdown",
   "id": "722aed87-c3a8-455e-ad7f-cc8711c0e127",
   "metadata": {},
   "source": [
    "<h2>Fill Null Values with Statistical Values</h2>"
   ]
  },
  {
   "cell_type": "code",
   "execution_count": 57,
   "id": "169716ef-2269-4722-8497-827ad3fbfa5c",
   "metadata": {},
   "outputs": [],
   "source": [
    "uk_accidents['Latitude'] = uk_accidents['Latitude'].fillna(uk_accidents['Latitude'].mean())\n",
    "uk_accidents['Longitude'] = uk_accidents['Longitude'].fillna(uk_accidents['Longitude'].mean())\n",
    "uk_accidents['Road_Surface_Conditions'] = uk_accidents['Road_Surface_Conditions'].fillna(uk_accidents['Road_Surface_Conditions'].mode()[0])\n",
    "uk_accidents['Road_Type'] = uk_accidents['Road_Type'].fillna(uk_accidents['Road_Type'].mode()[0])\n",
    "uk_accidents['Urban_or_Rural_Area'] = uk_accidents['Urban_or_Rural_Area'].fillna(uk_accidents['Urban_or_Rural_Area'].mode()[0])\n",
    "uk_accidents['Weather_Conditions'] = uk_accidents['Weather_Conditions'].fillna(uk_accidents['Weather_Conditions'].mode()[0])"
   ]
  },
  {
   "cell_type": "code",
   "execution_count": 58,
   "id": "c6c2233a-e978-4ec3-af06-6a65008a5191",
   "metadata": {},
   "outputs": [
    {
     "data": {
      "text/plain": [
       "Index                      0\n",
       "Accident_Severity          0\n",
       "Accident Date              0\n",
       "Latitude                   0\n",
       "Light_Conditions           0\n",
       "District Area              0\n",
       "Longitude                  0\n",
       "Number_of_Casualties       0\n",
       "Number_of_Vehicles         0\n",
       "Road_Surface_Conditions    0\n",
       "Road_Type                  0\n",
       "Urban_or_Rural_Area        0\n",
       "Weather_Conditions         0\n",
       "Vehicle_Type               0\n",
       "dtype: int64"
      ]
     },
     "execution_count": 58,
     "metadata": {},
     "output_type": "execute_result"
    }
   ],
   "source": [
    "uk_accidents.isnull().sum()"
   ]
  },
  {
   "cell_type": "markdown",
   "id": "51392b49-64d9-42be-8dfa-8e5a7134eb7d",
   "metadata": {},
   "source": [
    "<h2>Checking Column Data Types</h2>"
   ]
  },
  {
   "cell_type": "code",
   "execution_count": 59,
   "id": "00803122-1156-4a37-b460-4a42216ae8c4",
   "metadata": {},
   "outputs": [
    {
     "data": {
      "text/plain": [
       "Index                       object\n",
       "Accident_Severity           object\n",
       "Accident Date               object\n",
       "Latitude                   float64\n",
       "Light_Conditions            object\n",
       "District Area               object\n",
       "Longitude                  float64\n",
       "Number_of_Casualties         int64\n",
       "Number_of_Vehicles           int64\n",
       "Road_Surface_Conditions     object\n",
       "Road_Type                   object\n",
       "Urban_or_Rural_Area         object\n",
       "Weather_Conditions          object\n",
       "Vehicle_Type                object\n",
       "dtype: object"
      ]
     },
     "execution_count": 59,
     "metadata": {},
     "output_type": "execute_result"
    }
   ],
   "source": [
    "uk_accidents.dtypes"
   ]
  },
  {
   "cell_type": "markdown",
   "id": "25cb1224-4832-486f-8728-8075639280c3",
   "metadata": {},
   "source": [
    "<h2>Converting Data Types</h2>"
   ]
  },
  {
   "cell_type": "code",
   "execution_count": 60,
   "id": "4ce45f18-f7ff-45bb-874b-3c92edebe920",
   "metadata": {},
   "outputs": [],
   "source": [
    "uk_accidents['Number_of_Casualties'] = uk_accidents['Number_of_Casualties'].astype('int')\n",
    "uk_accidents['Number_of_Vehicles'] = uk_accidents['Number_of_Vehicles'].astype('int')\n",
    "uk_accidents['Latitude'] = uk_accidents['Latitude'].astype('float')\n",
    "uk_accidents['Longitude'] = uk_accidents['Longitude'].astype('float')\n",
    "uk_accidents['Index'] = uk_accidents['Index'].astype('category')\n",
    "uk_accidents['Accident_Severity'] = uk_accidents['Accident_Severity'].astype('category')\n",
    "uk_accidents['Accident Date'] = uk_accidents['Accident Date'].astype('category')\n",
    "uk_accidents['Light_Conditions'] = uk_accidents['Light_Conditions'].astype('category')\n",
    "uk_accidents['District Area'] = uk_accidents['District Area'].astype('category')\n",
    "uk_accidents['Road_Surface_Conditions'] = uk_accidents['Road_Surface_Conditions'].astype('category')\n",
    "uk_accidents['Road_Type'] = uk_accidents['Road_Type'].astype('category')\n",
    "uk_accidents['Urban_or_Rural_Area'] = uk_accidents['Urban_or_Rural_Area'].astype('category')\n",
    "uk_accidents['Weather_Conditions'] = uk_accidents['Weather_Conditions'].astype('category')\n",
    "uk_accidents['Vehicle_Type'] = uk_accidents['Vehicle_Type'].astype('category')"
   ]
  },
  {
   "cell_type": "code",
   "execution_count": 81,
   "id": "e69e26c6-744a-44b5-823d-1d5e11b7be44",
   "metadata": {},
   "outputs": [
    {
     "data": {
      "text/plain": [
       "Index                      category\n",
       "Accident_Severity          category\n",
       "Accident Date              category\n",
       "Latitude                    float64\n",
       "Light_Conditions           category\n",
       "District Area              category\n",
       "Longitude                   float64\n",
       "Number_of_Casualties          int64\n",
       "Number_of_Vehicles            int64\n",
       "Road_Surface_Conditions    category\n",
       "Road_Type                  category\n",
       "Urban_or_Rural_Area        category\n",
       "Weather_Conditions         category\n",
       "Vehicle_Type               category\n",
       "dtype: object"
      ]
     },
     "execution_count": 81,
     "metadata": {},
     "output_type": "execute_result"
    }
   ],
   "source": [
    "uk_accidents.dtypes"
   ]
  },
  {
   "cell_type": "markdown",
   "id": "40b8540d-abd4-4516-afd2-a3395e3662cd",
   "metadata": {},
   "source": [
    "<h2>Exploratory Data Analytics</h2>"
   ]
  },
  {
   "cell_type": "markdown",
   "id": "efd861b2-40d5-4a71-9bda-29428d9c3fb6",
   "metadata": {},
   "source": [
    "<h2>Question 1: What is the average number of vehicles involved by accident severity?</h2>"
   ]
  },
  {
   "cell_type": "code",
   "execution_count": 82,
   "id": "9a71cab3-9ddd-4efd-8d91-be11b746cc75",
   "metadata": {},
   "outputs": [
    {
     "data": {
      "text/plain": [
       "Accident_Severity\n",
       "Fatal      1.786976\n",
       "Serious    1.678327\n",
       "Slight     1.855864\n",
       "Name: Number_of_Vehicles, dtype: float64"
      ]
     },
     "execution_count": 82,
     "metadata": {},
     "output_type": "execute_result"
    }
   ],
   "source": [
    "uk_accidents.groupby('Accident_Severity')['Number_of_Vehicles'].mean()"
   ]
  },
  {
   "cell_type": "markdown",
   "id": "d987cecf-a226-4c33-a0c2-68fb1666f49a",
   "metadata": {},
   "source": [
    "<h2>Insight: More severe accidents tend to involve more vehicles on average, suggesting multi-vehicle collisions are more dangerous.</h2>"
   ]
  },
  {
   "cell_type": "markdown",
   "id": "b9c5d69d-5e23-4726-9a43-340c8b65eef7",
   "metadata": {},
   "source": [
    "<h2>Question 2:What is the average number of casualties in urban vs rural accidents by vehicle type?</h2>"
   ]
  },
  {
   "cell_type": "code",
   "execution_count": 83,
   "id": "18cbec3e-97e8-4be6-afb7-5c80e5aaca84",
   "metadata": {},
   "outputs": [
    {
     "data": {
      "text/plain": [
       "Urban_or_Rural_Area  Vehicle_Type                         \n",
       "Rural                Agricultural vehicle                     1.441481\n",
       "                     Bus or coach (17 or more pass seats)     1.477895\n",
       "                     Car                                      1.480942\n",
       "                     Data missing or out of range                  NaN\n",
       "                     Goods 7.5 tonnes mgw and over            1.457765\n",
       "                     Goods over 3.5t. and under 7.5t          1.500448\n",
       "                     Minibus (8 - 16 passenger seats)         1.435933\n",
       "                     Motorcycle 125cc and under               1.469042\n",
       "                     Motorcycle 50cc and under                1.455351\n",
       "                     Motorcycle over 125cc and up to 500cc    1.453628\n",
       "                     Motorcycle over 500cc                    1.476834\n",
       "                     Other vehicle                            1.432297\n",
       "                     Pedal cycle                              1.514286\n",
       "                     Ridden horse                             2.000000\n",
       "                     Taxi/Private hire car                    1.501817\n",
       "                     Van / Goods 3.5 tonnes mgw or under      1.481408\n",
       "Unallocated          Agricultural vehicle                          NaN\n",
       "                     Bus or coach (17 or more pass seats)     1.000000\n",
       "                     Car                                      1.250000\n",
       "                     Data missing or out of range                  NaN\n",
       "                     Goods 7.5 tonnes mgw and over                 NaN\n",
       "                     Goods over 3.5t. and under 7.5t               NaN\n",
       "                     Minibus (8 - 16 passenger seats)              NaN\n",
       "                     Motorcycle 125cc and under                    NaN\n",
       "                     Motorcycle 50cc and under                     NaN\n",
       "                     Motorcycle over 125cc and up to 500cc         NaN\n",
       "                     Motorcycle over 500cc                         NaN\n",
       "                     Other vehicle                                 NaN\n",
       "                     Pedal cycle                                   NaN\n",
       "                     Ridden horse                                  NaN\n",
       "                     Taxi/Private hire car                         NaN\n",
       "                     Van / Goods 3.5 tonnes mgw or under      1.000000\n",
       "Urban                Agricultural vehicle                     1.289308\n",
       "                     Bus or coach (17 or more pass seats)     1.280339\n",
       "                     Car                                      1.288564\n",
       "                     Data missing or out of range             1.500000\n",
       "                     Goods 7.5 tonnes mgw and over            1.293427\n",
       "                     Goods over 3.5t. and under 7.5t          1.283385\n",
       "                     Minibus (8 - 16 passenger seats)         1.294118\n",
       "                     Motorcycle 125cc and under               1.265762\n",
       "                     Motorcycle 50cc and under                1.271817\n",
       "                     Motorcycle over 125cc and up to 500cc    1.284424\n",
       "                     Motorcycle over 500cc                    1.296467\n",
       "                     Other vehicle                            1.289596\n",
       "                     Pedal cycle                              1.291339\n",
       "                     Ridden horse                             1.000000\n",
       "                     Taxi/Private hire car                    1.296391\n",
       "                     Van / Goods 3.5 tonnes mgw or under      1.284461\n",
       "Name: Number_of_Casualties, dtype: float64"
      ]
     },
     "execution_count": 83,
     "metadata": {},
     "output_type": "execute_result"
    }
   ],
   "source": [
    "uk_accidents.groupby(['Urban_or_Rural_Area', 'Vehicle_Type'])['Number_of_Casualties'].mean()"
   ]
  },
  {
   "cell_type": "markdown",
   "id": "4566420f-bfa0-4b0f-bc15-ea045095f094",
   "metadata": {},
   "source": [
    "<h2>Insight : Rural accidents may have different casualty patterns than urban ones for the same vehicle types due to speed differences.</h2>"
   ]
  },
  {
   "cell_type": "markdown",
   "id": "550d0b5b-9622-47fb-a23f-ef5b98876896",
   "metadata": {},
   "source": [
    "<h2>Question 3: Which accident severity level is most common?</h2>"
   ]
  },
  {
   "cell_type": "code",
   "execution_count": 84,
   "id": "ab5be989-d5db-469c-a16a-636400c38b32",
   "metadata": {},
   "outputs": [
    {
     "data": {
      "text/plain": [
       "Accident_Severity\n",
       "Slight     563801\n",
       "Serious     88217\n",
       "Fatal        8661\n",
       "Name: count, dtype: int64"
      ]
     },
     "execution_count": 84,
     "metadata": {},
     "output_type": "execute_result"
    }
   ],
   "source": [
    "uk_accidents['Accident_Severity'].value_counts()"
   ]
  },
  {
   "cell_type": "markdown",
   "id": "51438469-dd5b-42f9-9a64-11619ef15d21",
   "metadata": {},
   "source": [
    "<h2>Insight : Slight accidents are the most common type, indicating that most road incidents result in minor injuries rather than serious harm.</h2>"
   ]
  },
  {
   "cell_type": "markdown",
   "id": "78b4e420-fe2a-49e1-a78a-c9950e1d031c",
   "metadata": {},
   "source": [
    "<h2>Question 4: Does location show any pattern with the number of casualties?</h2>"
   ]
  },
  {
   "cell_type": "code",
   "execution_count": 103,
   "id": "ac732062-39c4-47e8-8ac3-331de3e84218",
   "metadata": {},
   "outputs": [
    {
     "data": {
      "text/html": [
       "<div>\n",
       "<style scoped>\n",
       "    .dataframe tbody tr th:only-of-type {\n",
       "        vertical-align: middle;\n",
       "    }\n",
       "\n",
       "    .dataframe tbody tr th {\n",
       "        vertical-align: top;\n",
       "    }\n",
       "\n",
       "    .dataframe thead th {\n",
       "        text-align: right;\n",
       "    }\n",
       "</style>\n",
       "<table border=\"1\" class=\"dataframe\">\n",
       "  <thead>\n",
       "    <tr style=\"text-align: right;\">\n",
       "      <th></th>\n",
       "      <th>Latitude</th>\n",
       "      <th>Longitude</th>\n",
       "      <th>Number_of_Casualties</th>\n",
       "    </tr>\n",
       "  </thead>\n",
       "  <tbody>\n",
       "    <tr>\n",
       "      <th>Latitude</th>\n",
       "      <td>1.000000</td>\n",
       "      <td>-0.398113</td>\n",
       "      <td>0.032201</td>\n",
       "    </tr>\n",
       "    <tr>\n",
       "      <th>Longitude</th>\n",
       "      <td>-0.398113</td>\n",
       "      <td>1.000000</td>\n",
       "      <td>-0.040406</td>\n",
       "    </tr>\n",
       "    <tr>\n",
       "      <th>Number_of_Casualties</th>\n",
       "      <td>0.032201</td>\n",
       "      <td>-0.040406</td>\n",
       "      <td>1.000000</td>\n",
       "    </tr>\n",
       "  </tbody>\n",
       "</table>\n",
       "</div>"
      ],
      "text/plain": [
       "                      Latitude  Longitude  Number_of_Casualties\n",
       "Latitude              1.000000  -0.398113              0.032201\n",
       "Longitude            -0.398113   1.000000             -0.040406\n",
       "Number_of_Casualties  0.032201  -0.040406              1.000000"
      ]
     },
     "execution_count": 103,
     "metadata": {},
     "output_type": "execute_result"
    }
   ],
   "source": [
    "uk_accidents[['Latitude', 'Longitude', 'Number_of_Casualties']].dropna().corr()"
   ]
  },
  {
   "cell_type": "markdown",
   "id": "83ced2c1-50c5-4fb4-bc75-955b57fc2bc9",
   "metadata": {},
   "source": [
    "<h2>Insight: The relationship between geographic coordinates and number of casualties is extremely weak, showing that where an accident happens location-wise doesn't really affect how many people get hurt.</h2>"
   ]
  },
  {
   "cell_type": "markdown",
   "id": "d8165ecb-c2c6-44b9-bbe1-ed8c0c494d69",
   "metadata": {},
   "source": [
    "<h2>Question 5: Which road type has the most accidents?</h2>"
   ]
  },
  {
   "cell_type": "code",
   "execution_count": 104,
   "id": "a2795d6c-3a35-40ac-85af-795c35af5f34",
   "metadata": {},
   "outputs": [
    {
     "data": {
      "text/plain": [
       "Road_Type\n",
       "Single carriageway    496663\n",
       "Dual carriageway       99424\n",
       "Roundabout             43992\n",
       "One way street         13559\n",
       "Slip road               7041\n",
       "Name: count, dtype: int64"
      ]
     },
     "execution_count": 104,
     "metadata": {},
     "output_type": "execute_result"
    }
   ],
   "source": [
    "uk_accidents['Road_Type'].value_counts()"
   ]
  },
  {
   "cell_type": "markdown",
   "id": "f438b878-8a41-4462-913d-7baaa5f88711",
   "metadata": {},
   "source": [
    "<h2>Insight : Single carriageways have the most accidents, which may be due to their prevalence in both urban and rural areas across the UK.</h2>"
   ]
  },
  {
   "cell_type": "markdown",
   "id": "e4c8e369-d973-4751-a144-23018a1da8d0",
   "metadata": {},
   "source": [
    "<h2>Question 6: What is the maximum number of casualties recorded in a single accident?</h2>"
   ]
  },
  {
   "cell_type": "code",
   "execution_count": 86,
   "id": "8e3fee91-86fa-4302-a3e5-58629db63130",
   "metadata": {},
   "outputs": [
    {
     "data": {
      "text/plain": [
       "np.int64(68)"
      ]
     },
     "execution_count": 86,
     "metadata": {},
     "output_type": "execute_result"
    }
   ],
   "source": [
    "uk_accidents['Number_of_Casualties'].max()"
   ]
  },
  {
   "cell_type": "markdown",
   "id": "d53071e5-68ca-43fc-8a35-2ffe10814b69",
   "metadata": {},
   "source": [
    "<h2>Insight : The deadliest accident recorded had 68 casualties, showing the severe impact a single incident can cause.</h2>"
   ]
  },
  {
   "cell_type": "markdown",
   "id": "944e3bef-357b-4f2c-959e-07a5f2b5fd63",
   "metadata": {},
   "source": [
    "<h2>Question 7: Which road surface condition has the fewest accidents?</h2>"
   ]
  },
  {
   "cell_type": "code",
   "execution_count": 87,
   "id": "69660295-bb3b-45de-9045-140ed79a0711",
   "metadata": {},
   "outputs": [
    {
     "data": {
      "text/plain": [
       "Road_Surface_Conditions\n",
       "Dry                     448547\n",
       "Wet or damp             186708\n",
       "Frost or ice             18517\n",
       "Snow                      5890\n",
       "Flood over 3cm. deep      1017\n",
       "Name: count, dtype: int64"
      ]
     },
     "execution_count": 87,
     "metadata": {},
     "output_type": "execute_result"
    }
   ],
   "source": [
    "uk_accidents['Road_Surface_Conditions'].value_counts()"
   ]
  },
  {
   "cell_type": "markdown",
   "id": "66a61f8a-560e-4b31-ace4-414097cc32da",
   "metadata": {},
   "source": [
    "<h2>Insight : The fewest accidents happened when the road was flooded over 3cm deep, which makes sense because most \n",
    " drivers avoid driving in deep floodwater, while dry and wet roads have the most accidents since those are the \n",
    " conditions people usually drive in every day.</h2>"
   ]
  },
  {
   "cell_type": "markdown",
   "id": "328d388a-d583-4840-96e1-dc9f5942ecfb",
   "metadata": {},
   "source": [
    "<h2>Question 8: How does the number of vehicles vary by road surface conditions?</h2>"
   ]
  },
  {
   "cell_type": "code",
   "execution_count": 105,
   "id": "52cb38a1-92df-41b9-8954-46453645f1c9",
   "metadata": {},
   "outputs": [
    {
     "data": {
      "text/plain": [
       "Road_Surface_Conditions\n",
       "Dry                     1.841631\n",
       "Flood over 3cm. deep    1.610619\n",
       "Frost or ice            1.640006\n",
       "Snow                    1.746859\n",
       "Wet or damp             1.829161\n",
       "Name: Number_of_Vehicles, dtype: float64"
      ]
     },
     "execution_count": 105,
     "metadata": {},
     "output_type": "execute_result"
    }
   ],
   "source": [
    "uk_accidents.groupby('Road_Surface_Conditions')['Number_of_Vehicles'].mean()"
   ]
  },
  {
   "cell_type": "markdown",
   "id": "bd86b745-8fac-4f7d-8cf0-5ee8b5caec63",
   "metadata": {},
   "source": [
    "<h2>Insight : Dry road conditions show the baseline vehicle involvement, while icy or snowy conditions may show slightly higher averages, suggesting these conditions can cause chain-reaction collisions involving multiple vehicles.</h2>"
   ]
  },
  {
   "cell_type": "markdown",
   "id": "654fee16-4068-497a-b467-add28e612dd3",
   "metadata": {},
   "source": [
    "<h2>Question 9: What is the most common accident severity for motorcycles over 500cc?</h2>"
   ]
  },
  {
   "cell_type": "code",
   "execution_count": 69,
   "id": "3ec42ad7-b975-4635-a635-004dc4cdb00c",
   "metadata": {},
   "outputs": [
    {
     "data": {
      "text/plain": [
       "Accident_Severity\n",
       "Slight     21861\n",
       "Serious     3457\n",
       "Fatal        339\n",
       "Name: count, dtype: int64"
      ]
     },
     "execution_count": 69,
     "metadata": {},
     "output_type": "execute_result"
    }
   ],
   "source": [
    "uk_accidents[uk_accidents['Vehicle_Type'] == 'Motorcycle over 500cc']['Accident_Severity'].value_counts()"
   ]
  },
  {
   "cell_type": "markdown",
   "id": "86c709ce-0f9e-41cc-89a5-fbda96f746e8",
   "metadata": {},
   "source": [
    "<h2>Insight : Slight is the most common severity for motorcycle accidents, just like other vehicle types, but motorcycles over 500cc likely show a higher proportion of Serious and Fatal</h2>"
   ]
  },
  {
   "cell_type": "markdown",
   "id": "34de26e0-a93e-4910-8a1b-0762dafa5d23",
   "metadata": {},
   "source": [
    "<h2>Question 10: How many accidents occur in each weather condition?</h2>"
   ]
  },
  {
   "cell_type": "code",
   "execution_count": 70,
   "id": "9166f3fd-7347-4c20-817a-70462941d114",
   "metadata": {},
   "outputs": [
    {
     "data": {
      "text/plain": [
       "Weather_Conditions\n",
       "Fine no high winds       535013\n",
       "Raining no high winds     79696\n",
       "Other                     17150\n",
       "Raining + high winds       9615\n",
       "Fine + high winds          8554\n",
       "Snowing no high winds      6238\n",
       "Fog or mist                3528\n",
       "Snowing + high winds        885\n",
       "Name: count, dtype: int64"
      ]
     },
     "execution_count": 70,
     "metadata": {},
     "output_type": "execute_result"
    }
   ],
   "source": [
    "uk_accidents['Weather_Conditions'].value_counts()"
   ]
  },
  {
   "cell_type": "markdown",
   "id": "ec0ef884-de29-4086-8808-bc86c22ed725",
   "metadata": {},
   "source": [
    "<h2>Insight : Fine no high winds accounts for the vast majority of accidents, not because good weather is dangerous, but because it represents most driving conditions. Rain and adverse weather show much lower counts due to reduced travel.</h2>"
   ]
  },
  {
   "cell_type": "markdown",
   "id": "d30d8039-ece8-4935-8b89-2f632b9cf784",
   "metadata": {},
   "source": [
    "<h2>Question 11: Does where the accident happens have any link with how many vehicles are involved?</h2>"
   ]
  },
  {
   "cell_type": "code",
   "execution_count": 95,
   "id": "48705690-7e7c-4e85-90d3-3423ba1a2014",
   "metadata": {},
   "outputs": [
    {
     "data": {
      "text/html": [
       "<div>\n",
       "<style scoped>\n",
       "    .dataframe tbody tr th:only-of-type {\n",
       "        vertical-align: middle;\n",
       "    }\n",
       "\n",
       "    .dataframe tbody tr th {\n",
       "        vertical-align: top;\n",
       "    }\n",
       "\n",
       "    .dataframe thead th {\n",
       "        text-align: right;\n",
       "    }\n",
       "</style>\n",
       "<table border=\"1\" class=\"dataframe\">\n",
       "  <thead>\n",
       "    <tr style=\"text-align: right;\">\n",
       "      <th></th>\n",
       "      <th>Latitude</th>\n",
       "      <th>Number_of_Vehicles</th>\n",
       "    </tr>\n",
       "  </thead>\n",
       "  <tbody>\n",
       "    <tr>\n",
       "      <th>Latitude</th>\n",
       "      <td>1.000000</td>\n",
       "      <td>-0.040028</td>\n",
       "    </tr>\n",
       "    <tr>\n",
       "      <th>Number_of_Vehicles</th>\n",
       "      <td>-0.040028</td>\n",
       "      <td>1.000000</td>\n",
       "    </tr>\n",
       "  </tbody>\n",
       "</table>\n",
       "</div>"
      ],
      "text/plain": [
       "                    Latitude  Number_of_Vehicles\n",
       "Latitude            1.000000           -0.040028\n",
       "Number_of_Vehicles -0.040028            1.000000"
      ]
     },
     "execution_count": 95,
     "metadata": {},
     "output_type": "execute_result"
    }
   ],
   "source": [
    "uk_accidents[['Latitude', 'Number_of_Vehicles']].dropna().corr()"
   ]
  },
  {
   "cell_type": "markdown",
   "id": "00363ac2-ce0b-4d57-bc0e-f62a7f4e8c55",
   "metadata": {},
   "source": [
    "<h2>Insight: This checks if accidents further north or south usually involve more or fewer vehicles.</h2>"
   ]
  },
  {
   "cell_type": "markdown",
   "id": "cee3711d-9908-4d0e-8870-5c89e89df364",
   "metadata": {},
   "source": [
    "<h2>Question 12: What is the average number of casualties by vehicle type?</h2>"
   ]
  },
  {
   "cell_type": "code",
   "execution_count": 71,
   "id": "f5e42c0c-f97a-4815-9312-95a22725c252",
   "metadata": {},
   "outputs": [
    {
     "data": {
      "text/plain": [
       "Vehicle_Type\n",
       "Agricultural vehicle                     1.342065\n",
       "Bus or coach (17 or more pass seats)     1.349216\n",
       "Car                                      1.358841\n",
       "Data missing or out of range             1.500000\n",
       "Goods 7.5 tonnes mgw and over            1.351881\n",
       "Goods over 3.5t. and under 7.5t          1.362861\n",
       "Minibus (8 - 16 passenger seats)         1.345648\n",
       "Motorcycle 125cc and under               1.332635\n",
       "Motorcycle 50cc and under                1.337235\n",
       "Motorcycle over 125cc and up to 500cc    1.343521\n",
       "Motorcycle over 500cc                    1.359434\n",
       "Other vehicle                            1.340075\n",
       "Pedal cycle                              1.370558\n",
       "Ridden horse                             1.250000\n",
       "Taxi/Private hire car                    1.368663\n",
       "Van / Goods 3.5 tonnes mgw or under      1.354537\n",
       "Name: Number_of_Casualties, dtype: float64"
      ]
     },
     "execution_count": 71,
     "metadata": {},
     "output_type": "execute_result"
    }
   ],
   "source": [
    "uk_accidents.groupby('Vehicle_Type')['Number_of_Casualties'].mean()"
   ]
  },
  {
   "cell_type": "markdown",
   "id": "d39f6c94-2f75-4937-98fb-ea3e4329c59a",
   "metadata": {},
   "source": [
    "<h2>Insight : most vehicle types cluster around 1.3 casualties per accident, indicating most accidents involve single occupants or minor injuries.</h2>"
   ]
  },
  {
   "cell_type": "markdown",
   "id": "1aeb8c1a-cc88-4556-8f18-80fdf2017a58",
   "metadata": {},
   "source": [
    "<h2>Question 13: What is the average number of casualties in accidents by light conditions?</h2>"
   ]
  },
  {
   "cell_type": "code",
   "execution_count": 72,
   "id": "3c334f4c-fbb3-4047-ab6b-8b2adebe3e1d",
   "metadata": {},
   "outputs": [
    {
     "data": {
      "text/plain": [
       "Light_Conditions\n",
       "Darkness - lighting unknown    1.306447\n",
       "Darkness - lights lit          1.369374\n",
       "Darkness - lights unlit        1.331105\n",
       "Darkness - no lighting         1.541657\n",
       "Daylight                       1.340309\n",
       "Name: Number_of_Casualties, dtype: float64"
      ]
     },
     "execution_count": 72,
     "metadata": {},
     "output_type": "execute_result"
    }
   ],
   "source": [
    "uk_accidents.groupby('Light_Conditions')['Number_of_Casualties'].mean()"
   ]
  },
  {
   "cell_type": "markdown",
   "id": "ad110a04-3e1c-4ef2-9fe5-5fdbbbe10c64",
   "metadata": {},
   "source": [
    "<h2>Insight : Daylight accidents will show the baseline casualty rate, while darkness conditions, especially Darkness - no lighting, will show higher averages, confirming that poor visibility increases accident severity.</h2>"
   ]
  },
  {
   "cell_type": "markdown",
   "id": "d24d5993-7a27-46ab-ba4e-d14c1d74ac2e",
   "metadata": {},
   "source": [
    "<h2>Question 14: Is there a relationship between the number of casualties and the number of vehicles involved in fatal accidents?</h2>"
   ]
  },
  {
   "cell_type": "code",
   "execution_count": 101,
   "id": "c454149a-422e-4c22-859a-f7161cb62d8c",
   "metadata": {},
   "outputs": [
    {
     "data": {
      "text/html": [
       "<div>\n",
       "<style scoped>\n",
       "    .dataframe tbody tr th:only-of-type {\n",
       "        vertical-align: middle;\n",
       "    }\n",
       "\n",
       "    .dataframe tbody tr th {\n",
       "        vertical-align: top;\n",
       "    }\n",
       "\n",
       "    .dataframe thead th {\n",
       "        text-align: right;\n",
       "    }\n",
       "</style>\n",
       "<table border=\"1\" class=\"dataframe\">\n",
       "  <thead>\n",
       "    <tr style=\"text-align: right;\">\n",
       "      <th></th>\n",
       "      <th>Number_of_Vehicles</th>\n",
       "      <th>Number_of_Casualties</th>\n",
       "    </tr>\n",
       "  </thead>\n",
       "  <tbody>\n",
       "    <tr>\n",
       "      <th>Number_of_Vehicles</th>\n",
       "      <td>1.000000</td>\n",
       "      <td>0.268213</td>\n",
       "    </tr>\n",
       "    <tr>\n",
       "      <th>Number_of_Casualties</th>\n",
       "      <td>0.268213</td>\n",
       "      <td>1.000000</td>\n",
       "    </tr>\n",
       "  </tbody>\n",
       "</table>\n",
       "</div>"
      ],
      "text/plain": [
       "                      Number_of_Vehicles  Number_of_Casualties\n",
       "Number_of_Vehicles              1.000000              0.268213\n",
       "Number_of_Casualties            0.268213              1.000000"
      ]
     },
     "execution_count": 101,
     "metadata": {},
     "output_type": "execute_result"
    }
   ],
   "source": [
    "uk_accidents[uk_accidents['Accident_Severity'] == 'Fatal'][['Number_of_Vehicles', 'Number_of_Casualties']].dropna().corr()"
   ]
  },
  {
   "cell_type": "markdown",
   "id": "c0f7392c-a7a8-4190-b708-dace3e2e96f0",
   "metadata": {},
   "source": [
    "<h2>Insight: The relationship between number of vehicles and casualties in fatal accidents shows a moderate positive relationship, meaning that fatal crashes involving more vehicles do tend to result in more casualties. This makes sense because more vehicles means more people potentially at risk in the crash.</h2>"
   ]
  },
  {
   "cell_type": "markdown",
   "id": "4f5f5de3-fa2e-41f9-92da-f108df35fcf0",
   "metadata": {},
   "source": [
    "<h2>Question 15: Which vehicle type is involved in the most fatal accidents?</h2>"
   ]
  },
  {
   "cell_type": "code",
   "execution_count": 106,
   "id": "fd031b36-c8bb-49e6-b989-e1a30ffe821b",
   "metadata": {},
   "outputs": [
    {
     "data": {
      "text/plain": [
       "Vehicle_Type\n",
       "Car                                      6577\n",
       "Van / Goods 3.5 tonnes mgw or under       467\n",
       "Motorcycle over 500cc                     339\n",
       "Bus or coach (17 or more pass seats)      325\n",
       "Goods 7.5 tonnes mgw and over             216\n",
       "Motorcycle 125cc and under                189\n",
       "Taxi/Private hire car                     155\n",
       "Motorcycle over 125cc and up to 500cc     105\n",
       "Motorcycle 50cc and under                  95\n",
       "Other vehicle                              70\n",
       "Goods over 3.5t. and under 7.5t            67\n",
       "Minibus (8 - 16 passenger seats)           29\n",
       "Agricultural vehicle                       21\n",
       "Pedal cycle                                 6\n",
       "Data missing or out of range                0\n",
       "Ridden horse                                0\n",
       "Name: count, dtype: int64"
      ]
     },
     "execution_count": 106,
     "metadata": {},
     "output_type": "execute_result"
    }
   ],
   "source": [
    "uk_accidents[uk_accidents['Accident_Severity'] == 'Fatal']['Vehicle_Type'].value_counts()"
   ]
  },
  {
   "cell_type": "markdown",
   "id": "6f446123-45fb-4465-9395-b6981451f34f",
   "metadata": {},
   "source": [
    "<h2>Insight : Cars will dominate fatal accidents in absolute numbers, simply because they represent the majority of vehicles on roads, followed by motorcycles and goods vehicles in much smaller numbers.</h2>"
   ]
  },
  {
   "cell_type": "markdown",
   "id": "738cd776-6420-4394-a7e2-ee013d7f14f9",
   "metadata": {},
   "source": [
    "<h2>Question 16: What is the distribution of accidents by the number of vehicles involved?</h2>"
   ]
  },
  {
   "cell_type": "code",
   "execution_count": 74,
   "id": "dbaafaa6-fd50-405f-b3cf-867d5d40976c",
   "metadata": {},
   "outputs": [
    {
     "data": {
      "text/plain": [
       "Number_of_Vehicles\n",
       "2     391995\n",
       "1     200787\n",
       "3      52806\n",
       "4      11300\n",
       "5       2464\n",
       "6        758\n",
       "7        296\n",
       "8        147\n",
       "9         57\n",
       "10        27\n",
       "11        12\n",
       "14         9\n",
       "12         7\n",
       "13         6\n",
       "16         4\n",
       "28         1\n",
       "15         1\n",
       "32         1\n",
       "19         1\n",
       "Name: count, dtype: int64"
      ]
     },
     "execution_count": 74,
     "metadata": {},
     "output_type": "execute_result"
    }
   ],
   "source": [
    "uk_accidents['Number_of_Vehicles'].value_counts()"
   ]
  },
  {
   "cell_type": "markdown",
   "id": "ad397b94-f468-4dbe-9891-406695f0a7f3",
   "metadata": {},
   "source": [
    "<h2>Insight : Single-vehicle accidents and two-vehicle accidents will account for about 85-90% of all accidents, with multi-vehicle accidents being relatively rare, showing most accidents are simple two-party collisions or single-vehicle incidents.</h2>"
   ]
  },
  {
   "cell_type": "markdown",
   "id": "ffd1fd35-ffb1-4615-8e10-f2d0bfa83c8b",
   "metadata": {},
   "source": [
    "<h2>Question 17: How does casualty count vary between different road surface conditions?</h2>"
   ]
  },
  {
   "cell_type": "code",
   "execution_count": 92,
   "id": "d2ee2c0f-dc53-4402-82f4-c169f121f6a1",
   "metadata": {},
   "outputs": [
    {
     "data": {
      "text/plain": [
       "Road_Surface_Conditions\n",
       "Dry                     598606\n",
       "Flood over 3cm. deep      1521\n",
       "Frost or ice             24976\n",
       "Snow                      8008\n",
       "Wet or damp             263457\n",
       "Name: Number_of_Casualties, dtype: int64"
      ]
     },
     "execution_count": 92,
     "metadata": {},
     "output_type": "execute_result"
    }
   ],
   "source": [
    "uk_accidents.groupby('Road_Surface_Conditions')['Number_of_Casualties'].sum()"
   ]
  },
  {
   "cell_type": "markdown",
   "id": "a765dfe0-48c4-4054-b4d1-8f5da7e64cd5",
   "metadata": {},
   "source": [
    "<h2>Insight : Dry conditions will show the baseline casualty rate, while Frost or ice and Snow conditions will show higher average casualties per accident, indicating that slippery surfaces lead to more severe collisions and loss of vehicle control.</h2>"
   ]
  },
  {
   "cell_type": "markdown",
   "id": "4e1ff939-4680-4e15-a10c-b43752c8621a",
   "metadata": {},
   "source": [
    "<h2>Question 18: Do accidents with more vehicles also have more casualties?</h2>"
   ]
  },
  {
   "cell_type": "code",
   "execution_count": 91,
   "id": "da88e4ff-8706-4fe5-b39d-8848cf42a32b",
   "metadata": {},
   "outputs": [
    {
     "data": {
      "text/html": [
       "<div>\n",
       "<style scoped>\n",
       "    .dataframe tbody tr th:only-of-type {\n",
       "        vertical-align: middle;\n",
       "    }\n",
       "\n",
       "    .dataframe tbody tr th {\n",
       "        vertical-align: top;\n",
       "    }\n",
       "\n",
       "    .dataframe thead th {\n",
       "        text-align: right;\n",
       "    }\n",
       "</style>\n",
       "<table border=\"1\" class=\"dataframe\">\n",
       "  <thead>\n",
       "    <tr style=\"text-align: right;\">\n",
       "      <th></th>\n",
       "      <th>Number_of_Vehicles</th>\n",
       "      <th>Number_of_Casualties</th>\n",
       "    </tr>\n",
       "  </thead>\n",
       "  <tbody>\n",
       "    <tr>\n",
       "      <th>Number_of_Vehicles</th>\n",
       "      <td>1.000000</td>\n",
       "      <td>0.228889</td>\n",
       "    </tr>\n",
       "    <tr>\n",
       "      <th>Number_of_Casualties</th>\n",
       "      <td>0.228889</td>\n",
       "      <td>1.000000</td>\n",
       "    </tr>\n",
       "  </tbody>\n",
       "</table>\n",
       "</div>"
      ],
      "text/plain": [
       "                      Number_of_Vehicles  Number_of_Casualties\n",
       "Number_of_Vehicles              1.000000              0.228889\n",
       "Number_of_Casualties            0.228889              1.000000"
      ]
     },
     "execution_count": 91,
     "metadata": {},
     "output_type": "execute_result"
    }
   ],
   "source": [
    "uk_accidents[['Number_of_Vehicles', 'Number_of_Casualties']].dropna().corr()"
   ]
  },
  {
   "cell_type": "markdown",
   "id": "10208b30-ee4b-42f0-9552-308ebaef4301",
   "metadata": {},
   "source": [
    "<h2>Insight : This shows how the number of vehicles in a crash goes together with the number of people hurt. </h2>"
   ]
  },
  {
   "cell_type": "markdown",
   "id": "967c7423-0c20-4580-90c8-7e041f85959c",
   "metadata": {},
   "source": [
    "<h2>Question 19: What is the most common light condition during serious accidents?</h2>"
   ]
  },
  {
   "cell_type": "code",
   "execution_count": null,
   "id": "50a25ccd-9dbe-4fd8-bdea-1d1bbebead13",
   "metadata": {},
   "outputs": [],
   "source": [
    "uk_accidents[uk_accidents['Accident_Severity'] == 'Serious']['Light_Conditions'].value_counts()"
   ]
  },
  {
   "cell_type": "markdown",
   "id": "12d01f8c-e5ba-405a-b283-d7358a25c098",
   "metadata": {},
   "source": [
    "<h2>Insight : Daylight will be the most common condition for serious accidents (60759), but darkness conditions will be overrepresented relative to their proportion of total driving time, showing increased severity risk at night.</h2>"
   ]
  },
  {
   "cell_type": "markdown",
   "id": "19b58327-2864-4538-a218-fe1108cd1f9e",
   "metadata": {},
   "source": [
    "<h2>Question 20: How many accidents occur on roundabouts vs other road types?</h2>"
   ]
  },
  {
   "cell_type": "code",
   "execution_count": null,
   "id": "6d7b5bf1-a85a-47c9-ba2f-8197c1563ac6",
   "metadata": {},
   "outputs": [],
   "source": [
    "uk_accidents.groupby(uk_accidents['Road_Type'] == 'Roundabout').size()"
   ]
  },
  {
   "cell_type": "markdown",
   "id": "83e5e3ba-ca14-4d95-a10c-00871aea4649",
   "metadata": {},
   "source": [
    "<h2>Insight : Roundabouts account for about 44,000 accidents versus 616,000 on other road types, but this reflects their lower frequency in the road network rather than safety performance - roundabouts typically have lower severity rates per accident.</h2>"
   ]
  },
  {
   "cell_type": "markdown",
   "id": "0a8e5988-ee55-43af-8aee-577bf8edb3af",
   "metadata": {},
   "source": [
    "<h2>Question 21: Which weather condition has the lowest accident count? </h2>"
   ]
  },
  {
   "cell_type": "code",
   "execution_count": null,
   "id": "3a33f674-77d6-481c-8ee7-e678675eded8",
   "metadata": {},
   "outputs": [],
   "source": [
    "uk_accidents['Weather_Conditions'].value_counts().tail(5)"
   ]
  },
  {
   "cell_type": "markdown",
   "id": "52ee0c26-7122-4475-a8d4-40a11ebd3c48",
   "metadata": {},
   "source": [
    "<h2>Insight : Fog or mist or Snowing with high winds will have the fewest accidents , showing that drivers appropriately avoid travel during the most hazardous weather conditions.</h2>"
   ]
  },
  {
   "cell_type": "markdown",
   "id": "de6d3222-1813-42ea-88f9-4234048fa622",
   "metadata": {},
   "source": [
    "<h2>Question 22: Does the east–west location relate to how many vehicles are in an accident?</h2>"
   ]
  },
  {
   "cell_type": "code",
   "execution_count": 98,
   "id": "1b0f8f9f-fb0d-45c7-94a2-d78fb38874ab",
   "metadata": {},
   "outputs": [
    {
     "data": {
      "text/html": [
       "<div>\n",
       "<style scoped>\n",
       "    .dataframe tbody tr th:only-of-type {\n",
       "        vertical-align: middle;\n",
       "    }\n",
       "\n",
       "    .dataframe tbody tr th {\n",
       "        vertical-align: top;\n",
       "    }\n",
       "\n",
       "    .dataframe thead th {\n",
       "        text-align: right;\n",
       "    }\n",
       "</style>\n",
       "<table border=\"1\" class=\"dataframe\">\n",
       "  <thead>\n",
       "    <tr style=\"text-align: right;\">\n",
       "      <th></th>\n",
       "      <th>Longitude</th>\n",
       "      <th>Number_of_Vehicles</th>\n",
       "    </tr>\n",
       "  </thead>\n",
       "  <tbody>\n",
       "    <tr>\n",
       "      <th>Longitude</th>\n",
       "      <td>1.000000</td>\n",
       "      <td>0.014725</td>\n",
       "    </tr>\n",
       "    <tr>\n",
       "      <th>Number_of_Vehicles</th>\n",
       "      <td>0.014725</td>\n",
       "      <td>1.000000</td>\n",
       "    </tr>\n",
       "  </tbody>\n",
       "</table>\n",
       "</div>"
      ],
      "text/plain": [
       "                    Longitude  Number_of_Vehicles\n",
       "Longitude            1.000000            0.014725\n",
       "Number_of_Vehicles   0.014725            1.000000"
      ]
     },
     "execution_count": 98,
     "metadata": {},
     "output_type": "execute_result"
    }
   ],
   "source": [
    "uk_accidents[['Longitude', 'Number_of_Vehicles']].dropna().corr()"
   ]
  },
  {
   "cell_type": "markdown",
   "id": "55539d01-4d15-4a80-ba94-527924b80cb9",
   "metadata": {},
   "source": [
    "<h2>Insight: This checks if there’s any pattern between where an accident happens east or west and how many vehicles are involved. </h2>"
   ]
  },
  {
   "cell_type": "markdown",
   "id": "431a7b1d-3742-42b3-9b98-2ef410ec7e3e",
   "metadata": {},
   "source": [
    "<h2>Question 23: What proportion of accidents result in only one casualty?</h2>"
   ]
  },
  {
   "cell_type": "code",
   "execution_count": null,
   "id": "fcc04797-71d4-44b1-9498-f915a6d48799",
   "metadata": {},
   "outputs": [],
   "source": [
    "(uk_accidents['Number_of_Casualties'] == 1).mean()"
   ]
  },
  {
   "cell_type": "markdown",
   "id": "5fdddf33-89c0-4cc9-8943-fc79a498ccff",
   "metadata": {},
   "source": [
    "<h2>Insight : Approximately 76%-77% of accidents result in exactly one casualty, indicating that most road accidents involve single-occupant vehicles or minor collisions where only one person is injured, rather than mass casualty events.</h2>"
   ]
  },
  {
   "cell_type": "markdown",
   "id": "5e4bce09-63c0-4f9c-a7c6-5f9fe850f4be",
   "metadata": {},
   "source": [
    "<h2>Question 24:  How does the number of casualties compare between different road surface conditions for car accidents only?</h2>"
   ]
  },
  {
   "cell_type": "code",
   "execution_count": null,
   "id": "97842e4d-37d7-43bb-ae44-b1587bfa9656",
   "metadata": {},
   "outputs": [],
   "source": [
    "uk_accidents[uk_accidents['Vehicle_Type'] == 'Car'].groupby('Road_Surface_Conditions')['Number_of_Casualties'].mean()"
   ]
  },
  {
   "cell_type": "markdown",
   "id": "16605e3e-7fcf-4b95-a572-4c195e1a3486",
   "metadata": {},
   "source": [
    "<h2>Insight : Car accidents on dry roads will show the baseline casualty rate , while icy or flooded roads will show higher rates (1.35+), demonstrating how poor surface conditions specifically impact car accident severity even when controlling for vehicle type.</h2>"
   ]
  },
  {
   "cell_type": "markdown",
   "id": "5cdc4181-e3be-49fd-b3c3-2091a90e8aa4",
   "metadata": {},
   "source": [
    "<h2>Question 25: What is the total number of casualties by district area?</h2>"
   ]
  },
  {
   "cell_type": "code",
   "execution_count": null,
   "id": "af6dd3f4-ed3d-404e-84a9-132a15608d34",
   "metadata": {},
   "outputs": [],
   "source": [
    "uk_accidents.groupby('District Area')['Number_of_Casualties'].sum()"
   ]
  },
  {
   "cell_type": "markdown",
   "id": "ccecebec-3e50-4ac7-8db8-7c8bf7815f47",
   "metadata": {},
   "source": [
    "<h2>Insight : Major metropolitan districts will show the highest total casualties , directly correlating with their accident frequency. This total casualty count identifies which areas have the greatest overall road safety burden and may need the most resources for emergency services and safety interventions.</h2>"
   ]
